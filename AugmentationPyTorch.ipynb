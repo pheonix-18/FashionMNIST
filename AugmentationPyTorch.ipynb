{
  "nbformat": 4,
  "nbformat_minor": 0,
  "metadata": {
    "colab": {
      "name": "AugmentationPyTorch",
      "provenance": []
    },
    "kernelspec": {
      "name": "python3",
      "display_name": "Python 3"
    },
    "language_info": {
      "name": "python"
    },
    "accelerator": "GPU"
  },
  "cells": [
    {
      "cell_type": "code",
      "execution_count": null,
      "metadata": {
        "id": "ZMLAKkpLKKdY"
      },
      "outputs": [],
      "source": [
        "import torch\n",
        "from torch.utils.data import Dataset, DataLoader\n",
        "from torchvision import datasets"
      ]
    },
    {
      "cell_type": "code",
      "source": [
        "datafolder = '/content/'\n",
        "fmnist = datasets.FashionMNIST(datafolder, train=True, download=True)\n",
        "data = fmnist.data\n",
        "target = fmnist.targets\n",
        "labels = fmnist.classes"
      ],
      "metadata": {
        "id": "_C0Nd20SKX4a"
      },
      "execution_count": null,
      "outputs": []
    },
    {
      "cell_type": "code",
      "source": [
        "import matplotlib.pyplot as plt\n",
        "%matplotlib inline\n"
      ],
      "metadata": {
        "id": "xhvsEXhSK__l"
      },
      "execution_count": null,
      "outputs": []
    },
    {
      "cell_type": "code",
      "source": [
        "print(labels[1])\n",
        "plt.imshow(data[1], cmap='gray')"
      ],
      "metadata": {
        "colab": {
          "base_uri": "https://localhost:8080/",
          "height": 300
        },
        "id": "TS_S9M6hLQJg",
        "outputId": "f7adec12-f67e-4491-f5fb-1ceab956bc76"
      },
      "execution_count": null,
      "outputs": [
        {
          "output_type": "stream",
          "name": "stdout",
          "text": [
            "Trouser\n"
          ]
        },
        {
          "output_type": "execute_result",
          "data": {
            "text/plain": [
              "<matplotlib.image.AxesImage at 0x7f013d506d50>"
            ]
          },
          "metadata": {},
          "execution_count": 15
        },
        {
          "output_type": "display_data",
          "data": {
            "image/png": "[encoded data removed]",
            "text/plain": [
              "<Figure size 432x288 with 1 Axes>"
            ]
          },
          "metadata": {
            "needs_background": "light"
          }
        }
      ]
    },
    {
      "cell_type": "code",
      "source": [
        "# Defining image augumentations\n",
        "from imgaug import augmenters as iaa"
      ],
      "metadata": {
        "id": "418sDs5TLYMc"
      },
      "execution_count": null,
      "outputs": []
    },
    {
      "cell_type": "code",
      "source": [
        "seq = iaa.Sequential([\n",
        "    iaa.Affine(rotate = 10),\n",
        "    iaa.flip.HorizontalFlip()\n",
        "])\n"
      ],
      "metadata": {
        "id": "vZmsV0uWL4-d"
      },
      "execution_count": null,
      "outputs": []
    },
    {
      "cell_type": "code",
      "source": [
        "plt.imshow(seq.augment_image(data[1]), cmap = 'gray')"
      ],
      "metadata": {
        "colab": {
          "base_uri": "https://localhost:8080/",
          "height": 282
        },
        "id": "mHvVSgnaNj90",
        "outputId": "91f9b847-36e7-47ef-e991-547677f90a6f"
      },
      "execution_count": null,
      "outputs": [
        {
          "output_type": "execute_result",
          "data": {
            "text/plain": [
              "<matplotlib.image.AxesImage at 0x7f011aadc350>"
            ]
          },
          "metadata": {},
          "execution_count": 36
        },
        {
          "output_type": "display_data",
          "data": {
            "image/png": "[encoded data removed]",
            "text/plain": [
              "<Figure size 432x288 with 1 Axes>"
            ]
          },
          "metadata": {
            "needs_background": "light"
          }
        }
      ]
    },
    {
      "cell_type": "code",
      "source": [
        "device = 'cuda' if torch.cuda.is_available() else 'cpu'\n",
        "device"
      ],
      "metadata": {
        "colab": {
          "base_uri": "https://localhost:8080/",
          "height": 35
        },
        "id": "9pCqCnU1Qi-C",
        "outputId": "7ae18c74-67ed-4edd-d151-cf3b0ef1d0b7"
      },
      "execution_count": null,
      "outputs": [
        {
          "output_type": "execute_result",
          "data": {
            "application/vnd.google.colaboratory.intrinsic+json": {
              "type": "string"
            },
            "text/plain": [
              "'cuda'"
            ]
          },
          "metadata": {},
          "execution_count": 38
        }
      ]
    },
    {
      "cell_type": "code",
      "source": [
        "class FMNISTDataset(Dataset):\n",
        "  def __init__(self, x, y, aug=None):\n",
        "    super().__init__()\n",
        "    self.X = x\n",
        "    self.Y = y\n",
        "    self.aug = aug\n",
        "  \n",
        "  def __getitem__(self, ix):\n",
        "    x, y = self.X[ix], self.Y[ix]\n",
        "    return x, y\n",
        "\n",
        "  def __len__(self):\n",
        "    return len(self.X)\n",
        "  \n",
        "  def collate_fn(self, batch):\n",
        "    x, y = list(zip(*batch))\n",
        "    if self.aug: \n",
        "      x = self.aug(images = x)\n",
        "      x = torch.tensor(x)[:,None,:,:].to(device)/255.0\n",
        "      y = torch.tensor(y).to(device)\n",
        "      return x, y\n",
        "  \n",
        "\n",
        "  "
      ],
      "metadata": {
        "id": "HjHDPptOODAX"
      },
      "execution_count": null,
      "outputs": []
    },
    {
      "cell_type": "code",
      "source": [
        "val_fmnist = datasets.FashionMNIST(datafolder, download=True, train = False)\n",
        "val_images = val_fmnist.data\n",
        "val_labels = val_fmnist.targets"
      ],
      "metadata": {
        "id": "DtSvg4MNThwl"
      },
      "execution_count": null,
      "outputs": []
    },
    {
      "cell_type": "code",
      "source": [
        "def get_data():\n",
        "  fmnist = FMNISTDataset(data, target, aug = seq)\n",
        "  train_loader = DataLoader(fmnist, batch_size=64, shuffle=True, collate_fn=fmnist.collate_fn)\n",
        "  fmnist_val = FMNISTDataset(val_images, val_labels)\n",
        "  val_loader = DataLoader(fmnist_val, batch_size=64, shuffle = True)\n",
        "  return train_loader, val_loader"
      ],
      "metadata": {
        "id": "cphN9G4xSU4s"
      },
      "execution_count": null,
      "outputs": []
    },
    {
      "cell_type": "code",
      "source": [
        "from torch.optim import SGD, Adam\n",
        "import torch.nn as nn\n",
        "def get_model():\n",
        "  model = nn.Sequential(\n",
        "      nn.Conv2d(1, 64, kernel_size=3),\n",
        "      nn.MaxPool2d(2),\n",
        "      nn.ReLU(),\n",
        "      nn.Conv2d(64, 128, kernel_size=3),\n",
        "      nn.MaxPool2d(2),\n",
        "      nn.ReLU(),\n",
        "      nn.Flatten(),\n",
        "      nn.Linear(3200, 256),\n",
        "      nn.ReLU(),\n",
        "      nn.Linear(256, 10)\n",
        "  ).to(device)\n",
        "  loss_fn = nn.CrossEntropyLoss()\n",
        "  optimizer = Adam(model.parameters(), lr=1e-3)\n",
        "  return model, loss_fn, optimizer\n"
      ],
      "metadata": {
        "id": "4QcjBFCsUj79"
      },
      "execution_count": null,
      "outputs": []
    },
    {
      "cell_type": "code",
      "source": [
        "def train_batch(x, y, model, opt, loss_fn):\n",
        "  model.train()\n",
        "  opt.zero_grad()\n",
        "  prediction = model(x)\n",
        "  loss = loss_fn(prediction, y)\n",
        "  loss.backward()\n",
        "  opt.step()\n",
        "  return loss.item()\n"
      ],
      "metadata": {
        "id": "3HFQECbxWXpr"
      },
      "execution_count": null,
      "outputs": []
    },
    {
      "cell_type": "code",
      "source": [
        "trn_dl, val_dl = get_data()\n",
        "model, loss_fn, optimizer = get_model()"
      ],
      "metadata": {
        "id": "tfUwBw8FW08c"
      },
      "execution_count": null,
      "outputs": []
    },
    {
      "cell_type": "code",
      "source": [
        "from tqdm import tqdm\n",
        "import numpy as np"
      ],
      "metadata": {
        "id": "pHFMsSEnYM2o"
      },
      "execution_count": null,
      "outputs": []
    },
    {
      "cell_type": "code",
      "source": [
        "\n",
        "for epoch in tqdm(range(5)):\n",
        "  losses = []\n",
        "  for ix, batch in enumerate(iter(trn_dl)):\n",
        "    x, y = batch\n",
        "    losses.append(train_batch(x, y, model, optimizer, loss_fn))\n",
        "  print(epoch, \"======\",np.mean(losses))"
      ],
      "metadata": {
        "colab": {
          "base_uri": "https://localhost:8080/"
        },
        "id": "BuQ_IHg1W3tW",
        "outputId": "831462cd-afa5-4f4d-d91c-3df5c5edc55d"
      },
      "execution_count": null,
      "outputs": [
        {
          "output_type": "stream",
          "name": "stderr",
          "text": [
            " 20%|██        | 1/5 [00:22<01:30, 22.62s/it]"
          ]
        },
        {
          "output_type": "stream",
          "name": "stdout",
          "text": [
            "0 ====== 0.25753027946154067\n"
          ]
        },
        {
          "output_type": "stream",
          "name": "stderr",
          "text": [
            "\r 40%|████      | 2/5 [00:45<01:08, 22.71s/it]"
          ]
        },
        {
          "output_type": "stream",
          "name": "stdout",
          "text": [
            "1 ====== 0.22636609073323227\n"
          ]
        },
        {
          "output_type": "stream",
          "name": "stderr",
          "text": [
            "\r 60%|██████    | 3/5 [01:08<00:45, 22.73s/it]"
          ]
        },
        {
          "output_type": "stream",
          "name": "stdout",
          "text": [
            "2 ====== 0.20143262493902686\n"
          ]
        },
        {
          "output_type": "stream",
          "name": "stderr",
          "text": [
            "\r 80%|████████  | 4/5 [01:30<00:22, 22.69s/it]"
          ]
        },
        {
          "output_type": "stream",
          "name": "stdout",
          "text": [
            "3 ====== 0.17862602405107098\n"
          ]
        },
        {
          "output_type": "stream",
          "name": "stderr",
          "text": [
            "100%|██████████| 5/5 [01:53<00:00, 22.69s/it]"
          ]
        },
        {
          "output_type": "stream",
          "name": "stdout",
          "text": [
            "4 ====== 0.1561942945824249\n"
          ]
        },
        {
          "output_type": "stream",
          "name": "stderr",
          "text": [
            "\n"
          ]
        }
      ]
    },
    {
      "cell_type": "code",
      "source": [
        "with torch.no_grad():\n",
        "  model.eval()\n",
        "  x_test = val_images[0]/255.0\n",
        "  y_test = val_labels[0]\n",
        "  x = torch.Tensor(x_test).view(-1,1,28,28).to(device)\n",
        "  np_output = model(x).cpu().detach().numpy()"
      ],
      "metadata": {
        "id": "JrL6fcqFXt-8"
      },
      "execution_count": null,
      "outputs": []
    },
    {
      "cell_type": "code",
      "source": [
        "np_output "
      ],
      "metadata": {
        "colab": {
          "base_uri": "https://localhost:8080/"
        },
        "id": "RnC0OwReZy2c",
        "outputId": "331eac24-773c-44bd-e430-f8663ddf3320"
      },
      "execution_count": null,
      "outputs": [
        {
          "output_type": "execute_result",
          "data": {
            "text/plain": [
              "array([[ -6.116663  ,  -4.746373  , -14.225748  , -16.374582  ,\n",
              "        -12.822632  ,  -0.09556689, -13.108806  ,  -0.2746216 ,\n",
              "        -16.999022  ,  11.950649  ]], dtype=float32)"
            ]
          },
          "metadata": {},
          "execution_count": 71
        }
      ]
    },
    {
      "cell_type": "code",
      "source": [
        "np_output = np.exp(np_output)/np.sum(np.exp(np_output))"
      ],
      "metadata": {
        "id": "O36SoT6rZ6mk"
      },
      "execution_count": null,
      "outputs": []
    },
    {
      "cell_type": "code",
      "source": [
        "np_output"
      ],
      "metadata": {
        "colab": {
          "base_uri": "https://localhost:8080/"
        },
        "id": "LgKM1StOaAs8",
        "outputId": "757fa6b6-9fb9-44d6-a49c-ff4002e825b2"
      },
      "execution_count": null,
      "outputs": [
        {
          "output_type": "execute_result",
          "data": {
            "text/plain": [
              "array([[1.4238404e-08, 5.6049362e-08, 4.2828258e-12, 4.9946326e-13,\n",
              "        1.7421922e-11, 5.8666496e-06, 1.3086163e-11, 4.9048717e-06,\n",
              "        2.6749338e-13, 9.9998921e-01]], dtype=float32)"
            ]
          },
          "metadata": {},
          "execution_count": 73
        }
      ]
    },
    {
      "cell_type": "code",
      "source": [
        "np.argmax(np_output)"
      ],
      "metadata": {
        "colab": {
          "base_uri": "https://localhost:8080/"
        },
        "id": "JlECdgu6aBTH",
        "outputId": "cc22168c-875a-420a-93a0-8443d17e757d"
      },
      "execution_count": null,
      "outputs": [
        {
          "output_type": "execute_result",
          "data": {
            "text/plain": [
              "9"
            ]
          },
          "metadata": {},
          "execution_count": 75
        }
      ]
    },
    {
      "cell_type": "code",
      "source": [
        "y_test"
      ],
      "metadata": {
        "colab": {
          "base_uri": "https://localhost:8080/"
        },
        "id": "_F_SgkhEaHLl",
        "outputId": "f0db256d-9ed9-4ea3-a5c9-28a5dedab362"
      },
      "execution_count": null,
      "outputs": [
        {
          "output_type": "execute_result",
          "data": {
            "text/plain": [
              "tensor(9)"
            ]
          },
          "metadata": {},
          "execution_count": 76
        }
      ]
    },
    {
      "cell_type": "code",
      "source": [
        "plt.imshow(x_test,cmap='gray')"
      ],
      "metadata": {
        "colab": {
          "base_uri": "https://localhost:8080/",
          "height": 282
        },
        "id": "au4jdgQJaKaO",
        "outputId": "3c51e414-b59c-4655-d8bb-427fd2c0cee4"
      },
      "execution_count": null,
      "outputs": [
        {
          "output_type": "execute_result",
          "data": {
            "text/plain": [
              "<matplotlib.image.AxesImage at 0x7f0111272b10>"
            ]
          },
          "metadata": {},
          "execution_count": 77
        },
        {
          "output_type": "display_data",
          "data": {
            "image/png": "[encoded data removed]",
            "text/plain": [
              "<Figure size 432x288 with 1 Axes>"
            ]
          },
          "metadata": {
            "needs_background": "light"
          }
        }
      ]
    },
    {
      "cell_type": "code",
      "source": [
        "labels[9]"
      ],
      "metadata": {
        "colab": {
          "base_uri": "https://localhost:8080/",
          "height": 35
        },
        "id": "jPPubIdjaQFe",
        "outputId": "dc6a8470-0a4a-409a-9a71-27326f11752b"
      },
      "execution_count": null,
      "outputs": [
        {
          "output_type": "execute_result",
          "data": {
            "application/vnd.google.colaboratory.intrinsic+json": {
              "type": "string"
            },
            "text/plain": [
              "'Ankle boot'"
            ]
          },
          "metadata": {},
          "execution_count": 79
        }
      ]
    },
    {
      "cell_type": "code",
      "source": [
        "torch.save(model.to('cpu').state_dict(), 'fmnist_5_epoch.pth')"
      ],
      "metadata": {
        "id": "DsiPSRJzaShy"
      },
      "execution_count": null,
      "outputs": []
    },
    {
      "cell_type": "code",
      "source": [
        ""
      ],
      "metadata": {
        "id": "0HqyP8P_akrH"
      },
      "execution_count": null,
      "outputs": []
    }
  ]
}